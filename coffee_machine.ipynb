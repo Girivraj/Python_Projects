resources = {"water": 300, "milk": 200, "coffee": 100}

Menu = {
"espresso": {"ingredients": {"water": 50, "coffee": 18}, "cost": 1.5},
"latte": {"ingredients": {"water": 200, "milk": 150, "coffee": 24}, "cost": 2.5},
"cappuccino": {"ingredients": {"water": 250, "milk": 100, "coffee": 24}, "cost": 3.0},
}
drink = Menu[choice]
profit = 0

def coffee_machine():
  while True:
    choice = input("What would you like? (espresso/latte/cappuccino):").lower()
    if choice == "off":
      break
    elif choice == "report":
      print(f"Water: {resources['water']}ml")
      print(f"Milk: {resources['milk']}ml")
      print(f"Coffee: {resources['coffee']}g")
      print(f"Money: ${profit}")
    elif choice in Menu:
      if get_resources(drink["ingredients"]):
        pro = coin_count(drink['cost'])
        profit+=pro
        if pro == drink['cost']:
          get_coffee()
    else:
      print("Invalid choice")

def coin_count(cost):
  print("Insert coins!!!")
  print(f"{choice}\'s cost will be ${cost}!!!")
  print("1 Quarter means 0.25, \
  1 Nickel means 0.10, \
  1 Dime means 0.05, \
  1 Penny means 0.01")
  quarter = int(input("Quarter:"))
  dime = int(input("Dime:"))
  nickel = int(input("Nickel:"))
  penny = int(input("Penny:"))
  total = quarter * 0.25 + dime * 0.10 + nickel * 0.05 + penny * 0.01
  print(f"You gave {total}")
  if cost == total:
    print("Transaction successful")
    return total
  elif total > cost:
    print(f"Here is your change, {round(total - paise_kiti_jhale,2)}")
    return round(cost,2)
  else:
    print("Transaction failed, not enough money")

def get_resources(check_resources):
    for i in check_resources:
        if check_resources[i] > resources[i]:
            print(f"Yaaar! {i.upper()} nai a!!!")
            return False
    return True

def get_coffee():
  for i in drink["ingredients"]:
    resources[i]-=drink["ingredients"][i]
  print(f"Here is your preferred drink : {choice}")
